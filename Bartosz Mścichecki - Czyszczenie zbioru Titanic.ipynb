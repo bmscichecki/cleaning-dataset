{
 "cells": [
  {
   "cell_type": "markdown",
   "metadata": {},
   "source": [
    "# Czyszczenie zbioru Titanic\n",
    "### Autor: Bartosz Mścichecki\n",
    "\n",
    "## Cel pracy\n",
    "\n",
    "Celem przygotowanej pracy jest jak najlepsze przygotowanie zbioru danych o nazwie ,,TitanicMess'' do celów analaizy. W skład przygotowania danych wchodzą takie operacje jak:\n",
    "* usunięcie zbędnych, do analizy, kolumn,\n",
    "* zlikwidowanie brakujących wartości poprzez uzupełnienie ich średnią lub usunięcie wystąpień, które posiadają brakujące wartości,\n",
    "* zaokrąglenie wartości zmiennych, jeśli jest to potrzebne,\n",
    "* połączenie wartości kolumn w jedną dodatkową kolumnę.\n",
    "\n",
    "## Rozwiązanie\n",
    "\n",
    "Przed rozpoczęciem rozwiązywania problemu należy zaimportować potrzebne biblioteki:\n",
    "* **numPy** - jest podstawowym pakietem do obliczeń w Pythonie,\n",
    "* **pandas** - biblioteka ,,open source'', która służy do manipulacji oraz analizy danych,\n",
    "* **math** - zapewnia dostęp do funkcji matematycznych zdefiniowanych przez standard C."
   ]
  },
  {
   "cell_type": "code",
   "execution_count": 128,
   "metadata": {},
   "outputs": [],
   "source": [
    "import numpy as np\n",
    "import pandas as pd\n",
    "import math"
   ]
  },
  {
   "cell_type": "markdown",
   "metadata": {},
   "source": [
    "Kolejnym krokiem jest wczytanie zbioru danych do zmiennej:"
   ]
  },
  {
   "cell_type": "code",
   "execution_count": 129,
   "metadata": {},
   "outputs": [],
   "source": [
    "dataset = pd.read_csv('TitanicMess.tsv', sep='\\t', thousands=',')"
   ]
  },
  {
   "cell_type": "markdown",
   "metadata": {},
   "source": [
    "Po wczytaniu danych można zapoznać się ze zbiorem:"
   ]
  },
  {
   "cell_type": "code",
   "execution_count": 130,
   "metadata": {},
   "outputs": [
    {
     "name": "stdout",
     "output_type": "stream",
     "text": [
      "<class 'pandas.core.frame.DataFrame'>\n",
      "RangeIndex: 892 entries, 0 to 891\n",
      "Data columns (total 13 columns):\n",
      " #   Column       Non-Null Count  Dtype  \n",
      "---  ------       --------------  -----  \n",
      " 0   PassengerId  892 non-null    int64  \n",
      " 1   Survived     892 non-null    int64  \n",
      " 2   Pclass       892 non-null    int64  \n",
      " 3   Name         892 non-null    object \n",
      " 4   Sex          892 non-null    object \n",
      " 5   Age          719 non-null    float64\n",
      " 6   SibSp        892 non-null    int64  \n",
      " 7   Parch        892 non-null    int64  \n",
      " 8   Ticket       892 non-null    object \n",
      " 9   Fare         892 non-null    object \n",
      " 10  Cabin        207 non-null    object \n",
      " 11  Embarked     890 non-null    object \n",
      " 12  ship         892 non-null    object \n",
      "dtypes: float64(1), int64(5), object(7)\n",
      "memory usage: 90.7+ KB\n"
     ]
    }
   ],
   "source": [
    "dataset.info()"
   ]
  },
  {
   "cell_type": "code",
   "execution_count": 131,
   "metadata": {},
   "outputs": [
    {
     "data": {
      "text/html": [
       "<div>\n",
       "<style scoped>\n",
       "    .dataframe tbody tr th:only-of-type {\n",
       "        vertical-align: middle;\n",
       "    }\n",
       "\n",
       "    .dataframe tbody tr th {\n",
       "        vertical-align: top;\n",
       "    }\n",
       "\n",
       "    .dataframe thead th {\n",
       "        text-align: right;\n",
       "    }\n",
       "</style>\n",
       "<table border=\"1\" class=\"dataframe\">\n",
       "  <thead>\n",
       "    <tr style=\"text-align: right;\">\n",
       "      <th></th>\n",
       "      <th>PassengerId</th>\n",
       "      <th>Survived</th>\n",
       "      <th>Pclass</th>\n",
       "      <th>Name</th>\n",
       "      <th>Sex</th>\n",
       "      <th>Age</th>\n",
       "      <th>SibSp</th>\n",
       "      <th>Parch</th>\n",
       "      <th>Ticket</th>\n",
       "      <th>Fare</th>\n",
       "      <th>Cabin</th>\n",
       "      <th>Embarked</th>\n",
       "      <th>ship</th>\n",
       "    </tr>\n",
       "  </thead>\n",
       "  <tbody>\n",
       "    <tr>\n",
       "      <th>0</th>\n",
       "      <td>1</td>\n",
       "      <td>0</td>\n",
       "      <td>3</td>\n",
       "      <td>Braund, Mr. Owen Harris</td>\n",
       "      <td>male</td>\n",
       "      <td>22.0</td>\n",
       "      <td>1</td>\n",
       "      <td>0</td>\n",
       "      <td>A/5 21171</td>\n",
       "      <td>7,25</td>\n",
       "      <td>NaN</td>\n",
       "      <td>S</td>\n",
       "      <td>Titanic</td>\n",
       "    </tr>\n",
       "    <tr>\n",
       "      <th>1</th>\n",
       "      <td>2</td>\n",
       "      <td>1</td>\n",
       "      <td>1</td>\n",
       "      <td>Cumings, Mrs. John Bradley (Florence Briggs Th...</td>\n",
       "      <td>female</td>\n",
       "      <td>38.0</td>\n",
       "      <td>1</td>\n",
       "      <td>0</td>\n",
       "      <td>PC 17599</td>\n",
       "      <td>71,2833</td>\n",
       "      <td>C85</td>\n",
       "      <td>C</td>\n",
       "      <td>Titanic</td>\n",
       "    </tr>\n",
       "    <tr>\n",
       "      <th>2</th>\n",
       "      <td>3</td>\n",
       "      <td>1</td>\n",
       "      <td>3</td>\n",
       "      <td>Heikkinen, Miss. Laina</td>\n",
       "      <td>female</td>\n",
       "      <td>26.0</td>\n",
       "      <td>0</td>\n",
       "      <td>0</td>\n",
       "      <td>STON/O2. 3101282</td>\n",
       "      <td>7,925</td>\n",
       "      <td>NaN</td>\n",
       "      <td>S</td>\n",
       "      <td>Titanic</td>\n",
       "    </tr>\n",
       "    <tr>\n",
       "      <th>3</th>\n",
       "      <td>4</td>\n",
       "      <td>1</td>\n",
       "      <td>1</td>\n",
       "      <td>Futrelle, Mrs. Jacques Heath (Lily May Peel)</td>\n",
       "      <td>female</td>\n",
       "      <td>35.0</td>\n",
       "      <td>1</td>\n",
       "      <td>0</td>\n",
       "      <td>113803</td>\n",
       "      <td>53,1</td>\n",
       "      <td>C123</td>\n",
       "      <td>S</td>\n",
       "      <td>Titanic</td>\n",
       "    </tr>\n",
       "    <tr>\n",
       "      <th>4</th>\n",
       "      <td>5</td>\n",
       "      <td>0</td>\n",
       "      <td>3</td>\n",
       "      <td>Allen, Mr. William Henry</td>\n",
       "      <td>male</td>\n",
       "      <td>35.0</td>\n",
       "      <td>0</td>\n",
       "      <td>0</td>\n",
       "      <td>373450</td>\n",
       "      <td>8,05</td>\n",
       "      <td>NaN</td>\n",
       "      <td>S</td>\n",
       "      <td>Titanic</td>\n",
       "    </tr>\n",
       "  </tbody>\n",
       "</table>\n",
       "</div>"
      ],
      "text/plain": [
       "   PassengerId  Survived  Pclass  \\\n",
       "0            1         0       3   \n",
       "1            2         1       1   \n",
       "2            3         1       3   \n",
       "3            4         1       1   \n",
       "4            5         0       3   \n",
       "\n",
       "                                                Name     Sex   Age  SibSp  \\\n",
       "0                            Braund, Mr. Owen Harris    male  22.0      1   \n",
       "1  Cumings, Mrs. John Bradley (Florence Briggs Th...  female  38.0      1   \n",
       "2                             Heikkinen, Miss. Laina  female  26.0      0   \n",
       "3       Futrelle, Mrs. Jacques Heath (Lily May Peel)  female  35.0      1   \n",
       "4                           Allen, Mr. William Henry    male  35.0      0   \n",
       "\n",
       "   Parch            Ticket     Fare Cabin Embarked     ship  \n",
       "0      0         A/5 21171     7,25   NaN        S  Titanic  \n",
       "1      0          PC 17599  71,2833   C85        C  Titanic  \n",
       "2      0  STON/O2. 3101282    7,925   NaN        S  Titanic  \n",
       "3      0            113803     53,1  C123        S  Titanic  \n",
       "4      0            373450     8,05   NaN        S  Titanic  "
      ]
     },
     "execution_count": 131,
     "metadata": {},
     "output_type": "execute_result"
    }
   ],
   "source": [
    "dataset.head()"
   ]
  },
  {
   "cell_type": "markdown",
   "metadata": {},
   "source": [
    "Można zauważyć, że zbiór składa się z 891 instacji oraz 12 zmiennych. Zmienne przedstawiają się następująco:\n",
    "* **PassengerId** - identyfikator pasażera,\n",
    "* **Survived** - czy pasażer przeżył: 1 - przeżył, 0 - nie przeżył,\n",
    "* **Pclass** - klasa, którą podróżował pasażer: 1, 2 lub 3,\n",
    "* **Name** - imię i nazwisko pasażera,\n",
    "* **Sex** - płeć pasażera,\n",
    "* **Age** - wiek w latach,\n",
    "* **SibSp** - liczba pasażerów w postaci rodzeństwa lub męża/żony, z którymi pasażer podróżował,\n",
    "* **Parch** - ilość dzieci lub rodziców,\n",
    "* **Ticket** - numer biletu,\n",
    "* **Fare** - cena biletu,\n",
    "* **Cabin** - numer kabiny,\n",
    "* **Embarked** - port w którym wysiadał: C - Cherboug, Q - Queenstown, S - Southampton,\n",
    "* **ship** - nazwa statku."
   ]
  },
  {
   "cell_type": "markdown",
   "metadata": {},
   "source": [
    "Po zapoznaniu się ze zbiorem warto zauważyć, że kolumna **Fare**, która zawiera opłaty za bilet, jest zdefiniowana przez typ ,,object''. Moim zdaniem jest to nieprawidłowe rozwiązanie. W związku z tym wykonane zostały poniższe operacje:"
   ]
  },
  {
   "cell_type": "code",
   "execution_count": 132,
   "metadata": {},
   "outputs": [
    {
     "name": "stdout",
     "output_type": "stream",
     "text": [
      "<class 'pandas.core.frame.DataFrame'>\n",
      "RangeIndex: 892 entries, 0 to 891\n",
      "Data columns (total 13 columns):\n",
      " #   Column       Non-Null Count  Dtype  \n",
      "---  ------       --------------  -----  \n",
      " 0   PassengerId  892 non-null    int64  \n",
      " 1   Survived     892 non-null    int64  \n",
      " 2   Pclass       892 non-null    int64  \n",
      " 3   Name         892 non-null    object \n",
      " 4   Sex          892 non-null    object \n",
      " 5   Age          719 non-null    float64\n",
      " 6   SibSp        892 non-null    int64  \n",
      " 7   Parch        892 non-null    int64  \n",
      " 8   Ticket       892 non-null    object \n",
      " 9   Fare         892 non-null    float64\n",
      " 10  Cabin        207 non-null    object \n",
      " 11  Embarked     890 non-null    object \n",
      " 12  ship         892 non-null    object \n",
      "dtypes: float64(2), int64(5), object(6)\n",
      "memory usage: 90.7+ KB\n"
     ]
    }
   ],
   "source": [
    "dataset['Fare'] = dataset['Fare'].str.replace(',','.')\n",
    "dataset['Fare'] = dataset['Fare'].str.replace(r'[^0-9\\.]+', '')\n",
    "dataset['Fare'] = pd.to_numeric(dataset['Fare'])\n",
    "dataset.info()"
   ]
  },
  {
   "cell_type": "markdown",
   "metadata": {},
   "source": [
    "W wyniku powyższych działań wszystkie znaki ,, , '' zmieniły się na ,, . '' oraz wszystkie znaki, które nie były liczbowe zostały usunięte. Następnie typ kolumny ,,Fare'' został zmieniony na ,,float64'' co lepiej ją definiuje."
   ]
  },
  {
   "cell_type": "markdown",
   "metadata": {},
   "source": [
    "Kolejną operacją, która dotyczy typu kolumn w zbiorze danych jest fakt, że kilka z nich posiada nieprawidłowy typ danych. Są to kolumny **Survived**, **Pclass**, **Sex** oraz **Embarked**. Moim zdaniem powinny być one zdefiniowane przez typ ,,category'', który określa kolumny zawierające skończoną listę wartości tekstowych (typ ,,object'' definiuje kolumny zawierające tekst). Zostało to wykonane za pomocą poniższych operacji:"
   ]
  },
  {
   "cell_type": "code",
   "execution_count": 133,
   "metadata": {},
   "outputs": [
    {
     "name": "stdout",
     "output_type": "stream",
     "text": [
      "<class 'pandas.core.frame.DataFrame'>\n",
      "RangeIndex: 892 entries, 0 to 891\n",
      "Data columns (total 13 columns):\n",
      " #   Column       Non-Null Count  Dtype   \n",
      "---  ------       --------------  -----   \n",
      " 0   PassengerId  892 non-null    int64   \n",
      " 1   Survived     892 non-null    category\n",
      " 2   Pclass       892 non-null    category\n",
      " 3   Name         892 non-null    object  \n",
      " 4   Sex          892 non-null    category\n",
      " 5   Age          719 non-null    float64 \n",
      " 6   SibSp        892 non-null    int64   \n",
      " 7   Parch        892 non-null    int64   \n",
      " 8   Ticket       892 non-null    object  \n",
      " 9   Fare         892 non-null    float64 \n",
      " 10  Cabin        207 non-null    object  \n",
      " 11  Embarked     890 non-null    category\n",
      " 12  ship         892 non-null    object  \n",
      "dtypes: category(4), float64(2), int64(3), object(4)\n",
      "memory usage: 66.9+ KB\n"
     ]
    }
   ],
   "source": [
    "dataset[\"Survived\"] = dataset[\"Survived\"].astype(\"category\")\n",
    "dataset[\"Pclass\"] = dataset[\"Pclass\"].astype(\"category\")\n",
    "dataset[\"Sex\"] = dataset[\"Sex\"].astype(\"category\")\n",
    "dataset[\"Embarked\"] = dataset[\"Embarked\"].astype(\"category\")\n",
    "dataset.info()"
   ]
  },
  {
   "cell_type": "markdown",
   "metadata": {},
   "source": [
    "Po określeniu typów kolumn i głębszemu przeanalizowaniu zbioru danych zdecydowałem się usunąć kolumny **Ticket**, **Cabin**, **Ship** oraz **Name**. Zawierają one dane, które nieprzydadzą się podczas przyszłej analizy danych."
   ]
  },
  {
   "cell_type": "code",
   "execution_count": 134,
   "metadata": {},
   "outputs": [
    {
     "name": "stdout",
     "output_type": "stream",
     "text": [
      "<class 'pandas.core.frame.DataFrame'>\n",
      "RangeIndex: 892 entries, 0 to 891\n",
      "Data columns (total 9 columns):\n",
      " #   Column       Non-Null Count  Dtype   \n",
      "---  ------       --------------  -----   \n",
      " 0   PassengerId  892 non-null    int64   \n",
      " 1   Survived     892 non-null    category\n",
      " 2   Pclass       892 non-null    category\n",
      " 3   Sex          892 non-null    category\n",
      " 4   Age          719 non-null    float64 \n",
      " 5   SibSp        892 non-null    int64   \n",
      " 6   Parch        892 non-null    int64   \n",
      " 7   Fare         892 non-null    float64 \n",
      " 8   Embarked     890 non-null    category\n",
      "dtypes: category(4), float64(2), int64(3)\n",
      "memory usage: 39.1 KB\n"
     ]
    }
   ],
   "source": [
    "dataset = dataset.drop(['Ticket', 'Cabin', 'ship', 'Name'], axis=1)\n",
    "dataset.info()"
   ]
  },
  {
   "cell_type": "markdown",
   "metadata": {},
   "source": [
    "Jak możemy zauważyć kolumny zostały usunięte.\n",
    "\n",
    "W kolejnym kroku czyszczenia danych jest zlikwidowanie brakującyh wartości. Zapoznając się ze zbiorem można zauważyć, że występują one w dwóch zmiennych: **Age** oraz **Embarked**. Aby pozbyć się brakujących danych możemy zastosować dwie drogi:\n",
    "* usunięcie wierszy z brakującymi wartościami,\n",
    "* zastąpienie brakujących danych wartością maksymalną, minimalną lub średnią z danych występujących w kolumnie.\n",
    "\n",
    "Biorąc pod uwagę, że w zmiennej **Age** występuje wiele brakujących wartości usunięcie ich może spowodować utrudnienie w przyszłej analizie danych. W związku z tym zostały one zastąpione wartością średnią ze wszystkich wystąpień. Brakujące wartości w zmiennej **Embarked** są jedynie w dwóch wystąpieniach, więc zostaną one usunięte ze zbioru."
   ]
  },
  {
   "cell_type": "code",
   "execution_count": 135,
   "metadata": {},
   "outputs": [
    {
     "name": "stdout",
     "output_type": "stream",
     "text": [
      "<class 'pandas.core.frame.DataFrame'>\n",
      "Int64Index: 890 entries, 0 to 891\n",
      "Data columns (total 9 columns):\n",
      " #   Column       Non-Null Count  Dtype   \n",
      "---  ------       --------------  -----   \n",
      " 0   PassengerId  890 non-null    int64   \n",
      " 1   Survived     890 non-null    category\n",
      " 2   Pclass       890 non-null    category\n",
      " 3   Sex          890 non-null    category\n",
      " 4   Age          890 non-null    float64 \n",
      " 5   SibSp        890 non-null    int64   \n",
      " 6   Parch        890 non-null    int64   \n",
      " 7   Fare         890 non-null    float64 \n",
      " 8   Embarked     890 non-null    category\n",
      "dtypes: category(4), float64(2), int64(3)\n",
      "memory usage: 45.8 KB\n"
     ]
    }
   ],
   "source": [
    "dataset['Age'] = dataset['Age'].fillna(dataset['Age'].mean())\n",
    "dataset = dataset[dataset['Embarked'].notna()]\n",
    "dataset.info()"
   ]
  },
  {
   "cell_type": "markdown",
   "metadata": {},
   "source": [
    "Jak widać, w zmiennej **Age** nie występują już brakujące dane, a cały zbiór został pomniejszony o dwa wystąpienia, które znajdowały się w zmiennej **Embarked**\n",
    "\n",
    "Kolejną rzeczą, która odnosi się do zmiennej **Age** jest fakt, że reprezentowana jest przez typ ,,float64''. Oznacza to, że występują w niej liczby zmiennoprzecinkowe. Znając definicję zmiennej (zawiera ona dane reprezenujące wiek) możemy zmienić rozwiązanie prezentacji danych na liczby całkowite. Podobne rozwiązanie możemy zastosować w zmiennej **Fare**."
   ]
  },
  {
   "cell_type": "code",
   "execution_count": 136,
   "metadata": {},
   "outputs": [
    {
     "name": "stdout",
     "output_type": "stream",
     "text": [
      "<class 'pandas.core.frame.DataFrame'>\n",
      "Int64Index: 890 entries, 0 to 891\n",
      "Data columns (total 9 columns):\n",
      " #   Column       Non-Null Count  Dtype   \n",
      "---  ------       --------------  -----   \n",
      " 0   PassengerId  890 non-null    int64   \n",
      " 1   Survived     890 non-null    category\n",
      " 2   Pclass       890 non-null    category\n",
      " 3   Sex          890 non-null    category\n",
      " 4   Age          890 non-null    int64   \n",
      " 5   SibSp        890 non-null    int64   \n",
      " 6   Parch        890 non-null    int64   \n",
      " 7   Fare         890 non-null    int64   \n",
      " 8   Embarked     890 non-null    category\n",
      "dtypes: category(4), int64(5)\n",
      "memory usage: 45.8 KB\n"
     ]
    }
   ],
   "source": [
    "dataset['Age'] = dataset['Age'].apply(math.ceil)\n",
    "dataset['Fare'] = dataset['Fare'].apply(math.ceil)\n",
    "dataset.info()"
   ]
  },
  {
   "cell_type": "markdown",
   "metadata": {},
   "source": [
    "Po wykonaniu powyższych operacji w zbiorze występują zmienne reprezentowane za pomocą liczb całkowitych oraz danych kategorycznych\n",
    "\n",
    "Ostatnim krokiem czyszczenia danych jest zoptymalizowanie liczby osób, które podróżowały razem z pasażerem. Biorąc pod uwagę, że w zmiennej **SibSp** przechowywana jest liczba współpasażerów w postaci rodzeństwa lub męża/żony, a w zmiennej **Parch** liczba współpasażerów w postaci rodzciów i dzieci można połączyć wartości z tych dwóch zmiennych w jedną, jako sumę współpasażerów."
   ]
  },
  {
   "cell_type": "code",
   "execution_count": 137,
   "metadata": {},
   "outputs": [
    {
     "data": {
      "text/html": [
       "<div>\n",
       "<style scoped>\n",
       "    .dataframe tbody tr th:only-of-type {\n",
       "        vertical-align: middle;\n",
       "    }\n",
       "\n",
       "    .dataframe tbody tr th {\n",
       "        vertical-align: top;\n",
       "    }\n",
       "\n",
       "    .dataframe thead th {\n",
       "        text-align: right;\n",
       "    }\n",
       "</style>\n",
       "<table border=\"1\" class=\"dataframe\">\n",
       "  <thead>\n",
       "    <tr style=\"text-align: right;\">\n",
       "      <th></th>\n",
       "      <th>PassengerId</th>\n",
       "      <th>Survived</th>\n",
       "      <th>Pclass</th>\n",
       "      <th>Sex</th>\n",
       "      <th>Age</th>\n",
       "      <th>SibSp</th>\n",
       "      <th>Parch</th>\n",
       "      <th>Fare</th>\n",
       "      <th>Embarked</th>\n",
       "      <th>FamilySize</th>\n",
       "    </tr>\n",
       "  </thead>\n",
       "  <tbody>\n",
       "    <tr>\n",
       "      <th>0</th>\n",
       "      <td>1</td>\n",
       "      <td>0</td>\n",
       "      <td>3</td>\n",
       "      <td>male</td>\n",
       "      <td>22</td>\n",
       "      <td>1</td>\n",
       "      <td>0</td>\n",
       "      <td>8</td>\n",
       "      <td>S</td>\n",
       "      <td>1</td>\n",
       "    </tr>\n",
       "    <tr>\n",
       "      <th>1</th>\n",
       "      <td>2</td>\n",
       "      <td>1</td>\n",
       "      <td>1</td>\n",
       "      <td>female</td>\n",
       "      <td>38</td>\n",
       "      <td>1</td>\n",
       "      <td>0</td>\n",
       "      <td>72</td>\n",
       "      <td>C</td>\n",
       "      <td>1</td>\n",
       "    </tr>\n",
       "    <tr>\n",
       "      <th>2</th>\n",
       "      <td>3</td>\n",
       "      <td>1</td>\n",
       "      <td>3</td>\n",
       "      <td>female</td>\n",
       "      <td>26</td>\n",
       "      <td>0</td>\n",
       "      <td>0</td>\n",
       "      <td>8</td>\n",
       "      <td>S</td>\n",
       "      <td>0</td>\n",
       "    </tr>\n",
       "    <tr>\n",
       "      <th>3</th>\n",
       "      <td>4</td>\n",
       "      <td>1</td>\n",
       "      <td>1</td>\n",
       "      <td>female</td>\n",
       "      <td>35</td>\n",
       "      <td>1</td>\n",
       "      <td>0</td>\n",
       "      <td>54</td>\n",
       "      <td>S</td>\n",
       "      <td>1</td>\n",
       "    </tr>\n",
       "    <tr>\n",
       "      <th>4</th>\n",
       "      <td>5</td>\n",
       "      <td>0</td>\n",
       "      <td>3</td>\n",
       "      <td>male</td>\n",
       "      <td>35</td>\n",
       "      <td>0</td>\n",
       "      <td>0</td>\n",
       "      <td>9</td>\n",
       "      <td>S</td>\n",
       "      <td>0</td>\n",
       "    </tr>\n",
       "  </tbody>\n",
       "</table>\n",
       "</div>"
      ],
      "text/plain": [
       "   PassengerId Survived Pclass     Sex  Age  SibSp  Parch  Fare Embarked  \\\n",
       "0            1        0      3    male   22      1      0     8        S   \n",
       "1            2        1      1  female   38      1      0    72        C   \n",
       "2            3        1      3  female   26      0      0     8        S   \n",
       "3            4        1      1  female   35      1      0    54        S   \n",
       "4            5        0      3    male   35      0      0     9        S   \n",
       "\n",
       "   FamilySize  \n",
       "0           1  \n",
       "1           1  \n",
       "2           0  \n",
       "3           1  \n",
       "4           0  "
      ]
     },
     "execution_count": 137,
     "metadata": {},
     "output_type": "execute_result"
    }
   ],
   "source": [
    "familySize = pd.DataFrame(dataset.apply(lambda x: x.SibSp+x.Parch, axis=1), columns=[\"FamilySize\"])\n",
    "dataset = dataset.join(familySize)\n",
    "dataset.head()"
   ]
  },
  {
   "cell_type": "markdown",
   "metadata": {},
   "source": [
    "Po wykonaniu powyższych operacji dodana została nowa zmienna **FamilySize** do zbioru danych, która zawiera sumę wartości zmiennych **SipSp** oraz **Parch**. W związku z tym należy usunąć te zmienne, ponieważ nie będą one już potrzebne. "
   ]
  },
  {
   "cell_type": "code",
   "execution_count": 138,
   "metadata": {
    "scrolled": true
   },
   "outputs": [
    {
     "name": "stdout",
     "output_type": "stream",
     "text": [
      "<class 'pandas.core.frame.DataFrame'>\n",
      "Int64Index: 890 entries, 0 to 891\n",
      "Data columns (total 8 columns):\n",
      " #   Column       Non-Null Count  Dtype   \n",
      "---  ------       --------------  -----   \n",
      " 0   PassengerId  890 non-null    int64   \n",
      " 1   Survived     890 non-null    category\n",
      " 2   Pclass       890 non-null    category\n",
      " 3   Sex          890 non-null    category\n",
      " 4   Age          890 non-null    int64   \n",
      " 5   Fare         890 non-null    int64   \n",
      " 6   Embarked     890 non-null    category\n",
      " 7   FamilySize   890 non-null    int64   \n",
      "dtypes: category(4), int64(4)\n",
      "memory usage: 78.8 KB\n"
     ]
    }
   ],
   "source": [
    "dataset = dataset.drop(['SibSp', 'Parch'], axis=1)\n",
    "dataset.info()"
   ]
  },
  {
   "cell_type": "markdown",
   "metadata": {},
   "source": [
    "Na tym etapie oczyszczanie danych zostało zakończone. Należy teraz zapisać dane do nowego pliku o nazwie ,,TitanicCleaned.tsv'', który będzie zawierał oczyszczone dane."
   ]
  },
  {
   "cell_type": "code",
   "execution_count": 139,
   "metadata": {},
   "outputs": [],
   "source": [
    "dataset.to_csv('TitanicCleaned.tsv')"
   ]
  },
  {
   "cell_type": "markdown",
   "metadata": {},
   "source": [
    "## Podsumowanie\n",
    "\n",
    "Zbiór danych został oczyszczony i zoptymalizowany w celu przyszłej analizy. Zostały wykonane wszystkie czynności, które zostały podane we wprowadzeniu oraz została dodana dodatkowa zmienna o nazwie FamilySize, która zawiera liczbę współpasażerów danego podróżnego. Operacje te spowodowały, moim zdaniem, że zbiór jest bardziej czytelny oraz łatwiejszy do analizy dla przyszłego eksperta."
   ]
  }
 ],
 "metadata": {
  "kernelspec": {
   "display_name": "Python 3",
   "language": "python",
   "name": "python3"
  },
  "language_info": {
   "codemirror_mode": {
    "name": "ipython",
    "version": 3
   },
   "file_extension": ".py",
   "mimetype": "text/x-python",
   "name": "python",
   "nbconvert_exporter": "python",
   "pygments_lexer": "ipython3",
   "version": "3.8.5"
  }
 },
 "nbformat": 4,
 "nbformat_minor": 4
}
